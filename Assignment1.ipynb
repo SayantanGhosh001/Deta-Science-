{
 "cells": [
  {
   "cell_type": "markdown",
   "id": "e9307be8",
   "metadata": {},
   "source": [
    "Q1. Create one variable containing following type of data:\n",
    "(i) string\n",
    "(ii) list\n",
    "(iii) float\n",
    "(iv) tuple\n"
   ]
  },
  {
   "cell_type": "markdown",
   "id": "96a06891",
   "metadata": {},
   "source": [
    "Ans -\n",
    "i)  a = \"Hello, World!\"\n",
    "ii) mylist = [\"apple\", \"banana\", \"cherry\"]\n",
    "iii)  float b = 67.89\n",
    "iv) mytuple = (\"apple\", \"banana\", \"cherry\")\n"
   ]
  },
  {
   "cell_type": "markdown",
   "id": "1668f288",
   "metadata": {},
   "source": [
    "Q2. Given are some following variables containing data:\n",
    "(i) var1 = ‘ ‘\n",
    "(ii) var2 = ‘[ DS , ML , Python]’\n",
    "(iii) var3 = [ ‘DS’ , ’ML’ , ‘Python’ ]\n",
    "(iv) var4 = 1.\n",
    "What will be the data type of the above given variable."
   ]
  },
  {
   "cell_type": "markdown",
   "id": "dcf1b18d",
   "metadata": {},
   "source": [
    "ANS - i) String ii)String iii)List iv)int"
   ]
  },
  {
   "cell_type": "markdown",
   "id": "562007ec",
   "metadata": {},
   "source": [
    "Q3. Explain the use of the following operators using an example:\n",
    "(i) /\n",
    "(ii) %\n",
    "(iii) //\n",
    "(iv) **"
   ]
  },
  {
   "cell_type": "markdown",
   "id": "0779d694",
   "metadata": {},
   "source": [
    "ANS -\n",
    "i)  Division operator\n",
    "ii) Modulo\n",
    "iii)Floor division\n",
    "iv) Power"
   ]
  },
  {
   "cell_type": "code",
   "execution_count": 9,
   "id": "efb61114",
   "metadata": {},
   "outputs": [
    {
     "name": "stdout",
     "output_type": "stream",
     "text": [
      "2.5 1 2 8\n"
     ]
    }
   ],
   "source": [
    "a=5/2\n",
    "b=5%2\n",
    "c=5//2\n",
    "d=2**3\n",
    "\n",
    "print(a,b,c,d)"
   ]
  },
  {
   "cell_type": "markdown",
   "id": "a1f6f0d8",
   "metadata": {},
   "source": [
    "Q4. Create a list of length 10 of your choice containing multiple types of data. Using for loop print the\n",
    "element and its data type."
   ]
  },
  {
   "cell_type": "code",
   "execution_count": 1,
   "id": "cb0cb6f1",
   "metadata": {},
   "outputs": [
    {
     "name": "stdout",
     "output_type": "stream",
     "text": [
      "sayantan\n",
      "<class 'str'>\n",
      "10\n",
      "<class 'int'>\n",
      "10.89\n",
      "<class 'float'>\n",
      "Apple\n",
      "<class 'str'>\n",
      "Banana\n",
      "<class 'str'>\n",
      "25\n",
      "<class 'int'>\n",
      "cherry\n",
      "<class 'str'>\n",
      "55\n",
      "<class 'int'>\n",
      "64\n",
      "<class 'int'>\n",
      "78\n",
      "<class 'int'>\n"
     ]
    }
   ],
   "source": [
    "myList = [\"sayantan\", 10, 10.89, \"Apple\", \"Banana\", 25, \"cherry\", 55, 64, 78]\n",
    "for i in myList:\n",
    "    print(i)\n",
    "    print (type(i))"
   ]
  },
  {
   "cell_type": "markdown",
   "id": "3b204c9e",
   "metadata": {},
   "source": [
    "Q5.Using a while loop, verify if the number A is purely divisible by number B and if so then how many\n",
    "times it can be divisible."
   ]
  },
  {
   "cell_type": "code",
   "execution_count": 2,
   "id": "3c4f94d2",
   "metadata": {},
   "outputs": [
    {
     "name": "stdout",
     "output_type": "stream",
     "text": [
      "25\n",
      "5\n",
      "not divisible\n"
     ]
    }
   ],
   "source": [
    "a=int(input())\n",
    "b=int(input())\n",
    "c=0\n",
    "if a/b==0:\n",
    "    while(a/b>=b and type(a/b)==int):\n",
    "        c+=1\n",
    "        a/=b\n",
    "    c\n",
    "else:\n",
    "    print(\"not divisible\")"
   ]
  },
  {
   "cell_type": "markdown",
   "id": "9d20a419",
   "metadata": {},
   "source": [
    "Q6. Create a list containing 25 int type data. Using for loop and if-else condition print if the element is\n",
    "divisible by 3 or not.\n"
   ]
  },
  {
   "cell_type": "code",
   "execution_count": 3,
   "id": "a57b3105",
   "metadata": {},
   "outputs": [
    {
     "data": {
      "text/plain": [
       "[3, 6, 9, 12, 15, 18, 21, 24]"
      ]
     },
     "execution_count": 3,
     "metadata": {},
     "output_type": "execute_result"
    }
   ],
   "source": [
    "l=[1,2,3,4,5,6,7,8,9,10,11,12,13,14,15,16,17,18,19,20,21,22,23,24,25]\n",
    "l1=[]\n",
    "l2=[]\n",
    "for i in l:\n",
    "    if i%3==0:\n",
    "        l1.append(i)\n",
    "    else:\n",
    "            l2.append(i)\n",
    "l1"
   ]
  },
  {
   "cell_type": "markdown",
   "id": "b67eaacb",
   "metadata": {},
   "source": [
    "What do you understand about mutable and immutable data types? Give examples for both showing\n",
    "this property."
   ]
  },
  {
   "cell_type": "markdown",
   "id": "f8182991",
   "metadata": {},
   "source": [
    "Mutable data types :-\n",
    "    Anything is said to be mutable when anything can be modified or changed. The term \"mutable\" in Python refers to an object's capacity to modify its values. These are frequently the things that hold a data collection.\n",
    "    \n",
    "    examples - \n",
    "Lists\n",
    "Dictionaries\n",
    "Sets\n",
    "User-Defined Classes (It depends on the user to define the characteristics of the classes)\n",
    "\n",
    "Immutable data types :-\n",
    "       Immutable refers to a state in which no change can occur over time. A Python object is referred to as immutable if we cannot change its value over time. The value of these Python objects is fixed once they are made.\n",
    "       \n",
    "       examples-\n",
    "Numbers (Integer, Float, Complex, Decimal, Rational & Booleans)\n",
    "Tuples\n",
    "Strings\n",
    "Frozen Sets"
   ]
  },
  {
   "cell_type": "code",
   "execution_count": null,
   "id": "01a9ce62",
   "metadata": {},
   "outputs": [],
   "source": []
  }
 ],
 "metadata": {
  "kernelspec": {
   "display_name": "Python 3 (ipykernel)",
   "language": "python",
   "name": "python3"
  },
  "language_info": {
   "codemirror_mode": {
    "name": "ipython",
    "version": 3
   },
   "file_extension": ".py",
   "mimetype": "text/x-python",
   "name": "python",
   "nbconvert_exporter": "python",
   "pygments_lexer": "ipython3",
   "version": "3.10.9"
  }
 },
 "nbformat": 4,
 "nbformat_minor": 5
}
